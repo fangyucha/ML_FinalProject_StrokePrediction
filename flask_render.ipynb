{
 "cells": [
  {
   "cell_type": "code",
   "execution_count": null,
   "metadata": {
    "scrolled": false
   },
   "outputs": [
    {
     "name": "stdout",
     "output_type": "stream",
     "text": [
      " * Serving Flask app \"__main__\" (lazy loading)\n",
      " * Environment: production\n",
      "   WARNING: This is a development server. Do not use it in a production deployment.\n",
      "   Use a production WSGI server instead.\n",
      " * Debug mode: off\n"
     ]
    },
    {
     "name": "stderr",
     "output_type": "stream",
     "text": [
      " * Running on http://127.0.0.1:5000/ (Press CTRL+C to quit)\n",
      "127.0.0.1 - - [11/Jun/2023 21:54:30] \"\u001b[37mGET / HTTP/1.1\u001b[0m\" 200 -\n",
      "127.0.0.1 - - [11/Jun/2023 21:54:44] \"\u001b[37mPOST /submit HTTP/1.1\u001b[0m\" 200 -\n"
     ]
    },
    {
     "name": "stdout",
     "output_type": "stream",
     "text": [
      "submit success\n",
      "Male\n"
     ]
    }
   ],
   "source": [
    "import joblib\n",
    "#TODO: load pkl\n",
    "#model_pretrained = joblib.load('LoanOrNot-LR-20230508.pkl')\n",
    "import numpy as np\n",
    " \n",
    "from flask import Flask, request, render_template\n",
    "app = Flask(__name__)\n",
    "app.static_folder = 'static'\n",
    "\n",
    "@app.route(\"/\")\n",
    "def formPage():\n",
    "    return render_template('index.html')\n",
    "\n",
    "@app.route(\"/submit\", methods=['POST'])\n",
    "def submit():\n",
    "    if request.method == 'POST':\n",
    "        print('submit success')\n",
    "        # get form data\n",
    "        gender=request.form.get('gender')\n",
    "        age=request.form.get('age')\n",
    "        have_hypertension=request.form.get('hypertension')\n",
    "        have_heartdisease=request.form.get('heart_disease')\n",
    "        have_married=request.form.get('ever_married')\n",
    "        work_type=request.form.get('work_type')\n",
    "        Residence_type=request.form.get('Residence_type')\n",
    "        avg_glucose=request.form.get('avg_glucose')\n",
    "        bmi=request.form.get('bmi')\n",
    "        smoking_status=request.form.get('smoking_status')\n",
    "        \n",
    "        #TODO: prediction by model\n",
    "        \n",
    "       \n",
    "    #TODO: return to front end    \n",
    "    return render_template('index.html')\n",
    " \n",
    "if __name__ == \"__main__\":\n",
    "    app.run()"
   ]
  },
  {
   "cell_type": "code",
   "execution_count": null,
   "metadata": {},
   "outputs": [],
   "source": []
  }
 ],
 "metadata": {
  "kernelspec": {
   "display_name": "Python 3",
   "language": "python",
   "name": "python3"
  },
  "language_info": {
   "codemirror_mode": {
    "name": "ipython",
    "version": 3
   },
   "file_extension": ".py",
   "mimetype": "text/x-python",
   "name": "python",
   "nbconvert_exporter": "python",
   "pygments_lexer": "ipython3",
   "version": "3.8.5"
  },
  "vscode": {
   "interpreter": {
    "hash": "82ed002fa2d4956f5c6aec99bcefe0f73a9f79882f3c9e2319b14958a5896ac5"
   }
  }
 },
 "nbformat": 4,
 "nbformat_minor": 4
}
