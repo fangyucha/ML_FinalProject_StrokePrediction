{
 "cells": [
  {
   "cell_type": "code",
   "execution_count": 2,
   "metadata": {
    "scrolled": false
   },
   "outputs": [
    {
     "name": "stdout",
     "output_type": "stream",
     "text": [
      " * Serving Flask app '__main__' (lazy loading)\n",
      " * Environment: production\n",
      "\u001b[31m   WARNING: This is a development server. Do not use it in a production deployment.\u001b[0m\n",
      "\u001b[2m   Use a production WSGI server instead.\u001b[0m\n",
      " * Debug mode: off\n"
     ]
    },
    {
     "name": "stderr",
     "output_type": "stream",
     "text": [
      " * Running on http://127.0.0.1:5000/ (Press CTRL+C to quit)\n",
      "127.0.0.1 - - [27/May/2023 01:54:33] \"GET / HTTP/1.1\" 200 -\n",
      "127.0.0.1 - - [27/May/2023 01:54:33] \"\u001b[36mGET /static/css/styles.css HTTP/1.1\u001b[0m\" 304 -\n",
      "127.0.0.1 - - [27/May/2023 01:54:33] \"\u001b[36mGET /static/js/scripts.js HTTP/1.1\u001b[0m\" 304 -\n",
      "127.0.0.1 - - [27/May/2023 01:54:33] \"\u001b[36mGET /static/assets/img/portfolio/thumbnails/1.jpg HTTP/1.1\u001b[0m\" 304 -\n",
      "127.0.0.1 - - [27/May/2023 01:54:33] \"\u001b[36mGET /static/assets/img/portfolio/thumbnails/2.jpg HTTP/1.1\u001b[0m\" 304 -\n",
      "127.0.0.1 - - [27/May/2023 01:54:33] \"\u001b[33mGET /static/assets/img/portfolio/thumbnails/4.jpg. HTTP/1.1\u001b[0m\" 404 -\n",
      "127.0.0.1 - - [27/May/2023 01:54:33] \"\u001b[36mGET /static/assets/img/portfolio/thumbnails/3.jpg HTTP/1.1\u001b[0m\" 304 -\n",
      "127.0.0.1 - - [27/May/2023 01:54:33] \"\u001b[36mGET /static/assets/img/portfolio/thumbnails/6.jpg HTTP/1.1\u001b[0m\" 304 -\n",
      "127.0.0.1 - - [27/May/2023 01:54:33] \"\u001b[36mGET /static/assets/img/portfolio/thumbnails/5.jpg HTTP/1.1\u001b[0m\" 304 -\n",
      "127.0.0.1 - - [27/May/2023 01:54:33] \"\u001b[36mGET /static/assets/img/bg-masthead.jpg HTTP/1.1\u001b[0m\" 304 -\n",
      "127.0.0.1 - - [27/May/2023 01:54:37] \"GET / HTTP/1.1\" 200 -\n",
      "127.0.0.1 - - [27/May/2023 01:54:37] \"\u001b[36mGET /static/css/styles.css HTTP/1.1\u001b[0m\" 304 -\n",
      "127.0.0.1 - - [27/May/2023 01:54:37] \"\u001b[36mGET /static/js/scripts.js HTTP/1.1\u001b[0m\" 304 -\n",
      "127.0.0.1 - - [27/May/2023 01:54:37] \"\u001b[36mGET /static/assets/img/portfolio/thumbnails/1.jpg HTTP/1.1\u001b[0m\" 304 -\n",
      "127.0.0.1 - - [27/May/2023 01:54:37] \"\u001b[36mGET /static/assets/img/portfolio/thumbnails/2.jpg HTTP/1.1\u001b[0m\" 304 -\n",
      "127.0.0.1 - - [27/May/2023 01:54:37] \"\u001b[33mGET /static/assets/img/portfolio/thumbnails/4.jpg. HTTP/1.1\u001b[0m\" 404 -\n",
      "127.0.0.1 - - [27/May/2023 01:54:37] \"\u001b[36mGET /static/assets/img/portfolio/thumbnails/3.jpg HTTP/1.1\u001b[0m\" 304 -\n",
      "127.0.0.1 - - [27/May/2023 01:54:37] \"\u001b[36mGET /static/assets/img/portfolio/thumbnails/5.jpg HTTP/1.1\u001b[0m\" 304 -\n",
      "127.0.0.1 - - [27/May/2023 01:54:37] \"\u001b[36mGET /static/assets/img/portfolio/thumbnails/6.jpg HTTP/1.1\u001b[0m\" 304 -\n",
      "127.0.0.1 - - [27/May/2023 01:54:37] \"\u001b[36mGET /static/assets/img/bg-masthead.jpg HTTP/1.1\u001b[0m\" 304 -\n",
      "127.0.0.1 - - [27/May/2023 01:54:37] \"\u001b[36mGET /static/assets/favicon.ico HTTP/1.1\u001b[0m\" 304 -\n",
      "127.0.0.1 - - [27/May/2023 01:54:37] \"GET / HTTP/1.1\" 200 -\n",
      "127.0.0.1 - - [27/May/2023 01:54:37] \"\u001b[36mGET /static/css/styles.css HTTP/1.1\u001b[0m\" 304 -\n",
      "127.0.0.1 - - [27/May/2023 01:54:37] \"\u001b[36mGET /static/assets/img/portfolio/thumbnails/1.jpg HTTP/1.1\u001b[0m\" 304 -\n",
      "127.0.0.1 - - [27/May/2023 01:54:37] \"\u001b[36mGET /static/js/scripts.js HTTP/1.1\u001b[0m\" 304 -\n",
      "127.0.0.1 - - [27/May/2023 01:54:37] \"\u001b[36mGET /static/assets/img/portfolio/thumbnails/2.jpg HTTP/1.1\u001b[0m\" 304 -\n",
      "127.0.0.1 - - [27/May/2023 01:54:37] \"\u001b[36mGET /static/assets/img/portfolio/thumbnails/3.jpg HTTP/1.1\u001b[0m\" 304 -\n",
      "127.0.0.1 - - [27/May/2023 01:54:37] \"\u001b[33mGET /static/assets/img/portfolio/thumbnails/4.jpg. HTTP/1.1\u001b[0m\" 404 -\n",
      "127.0.0.1 - - [27/May/2023 01:54:37] \"\u001b[36mGET /static/assets/img/portfolio/thumbnails/5.jpg HTTP/1.1\u001b[0m\" 304 -\n",
      "127.0.0.1 - - [27/May/2023 01:54:37] \"\u001b[36mGET /static/assets/img/portfolio/thumbnails/6.jpg HTTP/1.1\u001b[0m\" 304 -\n",
      "127.0.0.1 - - [27/May/2023 01:54:37] \"\u001b[36mGET /static/assets/favicon.ico HTTP/1.1\u001b[0m\" 304 -\n",
      "127.0.0.1 - - [27/May/2023 01:54:37] \"GET / HTTP/1.1\" 200 -\n",
      "127.0.0.1 - - [27/May/2023 01:54:37] \"\u001b[36mGET /static/css/styles.css HTTP/1.1\u001b[0m\" 304 -\n",
      "127.0.0.1 - - [27/May/2023 01:54:37] \"\u001b[36mGET /static/assets/img/portfolio/thumbnails/1.jpg HTTP/1.1\u001b[0m\" 304 -\n",
      "127.0.0.1 - - [27/May/2023 01:54:37] \"\u001b[36mGET /static/js/scripts.js HTTP/1.1\u001b[0m\" 304 -\n",
      "127.0.0.1 - - [27/May/2023 01:54:37] \"\u001b[36mGET /static/assets/img/portfolio/thumbnails/2.jpg HTTP/1.1\u001b[0m\" 304 -\n",
      "127.0.0.1 - - [27/May/2023 01:54:37] \"\u001b[33mGET /static/assets/img/portfolio/thumbnails/4.jpg. HTTP/1.1\u001b[0m\" 404 -\n",
      "127.0.0.1 - - [27/May/2023 01:54:37] \"\u001b[36mGET /static/assets/img/portfolio/thumbnails/3.jpg HTTP/1.1\u001b[0m\" 304 -\n",
      "127.0.0.1 - - [27/May/2023 01:54:37] \"\u001b[36mGET /static/assets/img/portfolio/thumbnails/5.jpg HTTP/1.1\u001b[0m\" 304 -\n",
      "127.0.0.1 - - [27/May/2023 01:54:37] \"\u001b[36mGET /static/assets/img/portfolio/thumbnails/6.jpg HTTP/1.1\u001b[0m\" 304 -\n",
      "127.0.0.1 - - [27/May/2023 01:54:38] \"\u001b[36mGET /static/assets/favicon.ico HTTP/1.1\u001b[0m\" 304 -\n",
      "127.0.0.1 - - [27/May/2023 01:54:38] \"GET / HTTP/1.1\" 200 -\n",
      "127.0.0.1 - - [27/May/2023 01:54:38] \"\u001b[36mGET /static/css/styles.css HTTP/1.1\u001b[0m\" 304 -\n",
      "127.0.0.1 - - [27/May/2023 01:54:38] \"\u001b[36mGET /static/assets/img/portfolio/thumbnails/1.jpg HTTP/1.1\u001b[0m\" 304 -\n",
      "127.0.0.1 - - [27/May/2023 01:54:38] \"\u001b[36mGET /static/js/scripts.js HTTP/1.1\u001b[0m\" 304 -\n",
      "127.0.0.1 - - [27/May/2023 01:54:38] \"\u001b[36mGET /static/assets/img/portfolio/thumbnails/2.jpg HTTP/1.1\u001b[0m\" 304 -\n",
      "127.0.0.1 - - [27/May/2023 01:54:38] \"\u001b[36mGET /static/assets/img/portfolio/thumbnails/3.jpg HTTP/1.1\u001b[0m\" 304 -\n",
      "127.0.0.1 - - [27/May/2023 01:54:38] \"\u001b[33mGET /static/assets/img/portfolio/thumbnails/4.jpg. HTTP/1.1\u001b[0m\" 404 -\n",
      "127.0.0.1 - - [27/May/2023 01:54:38] \"\u001b[36mGET /static/assets/img/portfolio/thumbnails/6.jpg HTTP/1.1\u001b[0m\" 304 -\n",
      "127.0.0.1 - - [27/May/2023 01:54:38] \"\u001b[36mGET /static/assets/img/portfolio/thumbnails/5.jpg HTTP/1.1\u001b[0m\" 304 -\n",
      "127.0.0.1 - - [27/May/2023 01:54:38] \"\u001b[36mGET /static/assets/favicon.ico HTTP/1.1\u001b[0m\" 304 -\n"
     ]
    }
   ],
   "source": [
    "\timport joblib\n",
    "#model_pretrained = joblib.load('LoanOrNot-LR-20230508.pkl')\n",
    "import numpy as np\n",
    " \n",
    "from flask import Flask, request, render_template\n",
    "app = Flask(__name__)\n",
    "app.static_folder = './static'\n",
    "\n",
    "@app.route(\"/\")\n",
    "def formPage():\n",
    "    return render_template('index.html')\n",
    "\n",
    "@app.route(\"/submit\", methods=['POST'])\n",
    "def submit():\n",
    "    print('submit success')\n",
    "    return \"i\"\n",
    " \n",
    "if __name__ == \"__main__\":\n",
    "    app.run()"
   ]
  },
  {
   "cell_type": "code",
   "execution_count": null,
   "metadata": {},
   "outputs": [],
   "source": []
  }
 ],
 "metadata": {
  "kernelspec": {
   "display_name": "Python 3",
   "language": "python",
   "name": "python3"
  },
  "language_info": {
   "codemirror_mode": {
    "name": "ipython",
    "version": 3
   },
   "file_extension": ".py",
   "mimetype": "text/x-python",
   "name": "python",
   "nbconvert_exporter": "python",
   "pygments_lexer": "ipython3",
   "version": "3.10.3"
  }
 },
 "nbformat": 4,
 "nbformat_minor": 4
}
