{
 "cells": [
  {
   "cell_type": "code",
   "execution_count": 4,
   "metadata": {
    "scrolled": false
   },
   "outputs": [
    {
     "name": "stdout",
     "output_type": "stream",
     "text": [
      " * Serving Flask app '__main__'\n",
      " * Debug mode: off\n"
     ]
    },
    {
     "name": "stderr",
     "output_type": "stream",
     "text": [
      " * Running on http://127.0.0.1:5000/ (Press CTRL+C to quit)\n",
      "127.0.0.1 - - [27/May/2023 20:24:35] \"\u001b[37mGET / HTTP/1.1\u001b[0m\" 200 -\n",
      "127.0.0.1 - - [27/May/2023 20:24:40] \"\u001b[37mGET / HTTP/1.1\u001b[0m\" 200 -\n",
      "127.0.0.1 - - [27/May/2023 20:24:40] \"\u001b[37mGET /static/css/styles.css HTTP/1.1\u001b[0m\" 200 -\n",
      "127.0.0.1 - - [27/May/2023 20:24:40] \"\u001b[37mGET /static/js/form.js HTTP/1.1\u001b[0m\" 200 -\n",
      "127.0.0.1 - - [27/May/2023 20:24:40] \"\u001b[37mGET /static/assets/img/portfolio/thumbnails/1.jpg HTTP/1.1\u001b[0m\" 200 -\n",
      "127.0.0.1 - - [27/May/2023 20:24:40] \"\u001b[37mGET /static/assets/img/portfolio/thumbnails/2.jpg HTTP/1.1\u001b[0m\" 200 -\n",
      "127.0.0.1 - - [27/May/2023 20:24:40] \"\u001b[37mGET /static/assets/img/portfolio/thumbnails/3.jpg HTTP/1.1\u001b[0m\" 200 -\n",
      "127.0.0.1 - - [27/May/2023 20:24:40] \"\u001b[37mGET /static/assets/img/portfolio/thumbnails/4.jpg. HTTP/1.1\u001b[0m\" 200 -\n",
      "127.0.0.1 - - [27/May/2023 20:24:40] \"\u001b[37mGET /static/assets/img/portfolio/thumbnails/5.jpg HTTP/1.1\u001b[0m\" 200 -\n",
      "127.0.0.1 - - [27/May/2023 20:24:40] \"\u001b[37mGET /static/js/scripts.js HTTP/1.1\u001b[0m\" 200 -\n",
      "127.0.0.1 - - [27/May/2023 20:24:40] \"\u001b[37mGET /static/assets/img/bg-masthead.jpg HTTP/1.1\u001b[0m\" 200 -\n",
      "127.0.0.1 - - [27/May/2023 20:24:40] \"\u001b[37mGET /static/assets/img/portfolio/thumbnails/6.jpg HTTP/1.1\u001b[0m\" 200 -\n",
      "127.0.0.1 - - [27/May/2023 20:24:40] \"\u001b[37mGET /static/assets/favicon.ico HTTP/1.1\u001b[0m\" 200 -\n",
      "127.0.0.1 - - [27/May/2023 20:25:08] \"\u001b[37mGET / HTTP/1.1\u001b[0m\" 200 -\n",
      "127.0.0.1 - - [27/May/2023 20:25:43] \"\u001b[37mPOST /submit HTTP/1.1\u001b[0m\" 200 -\n"
     ]
    },
    {
     "name": "stdout",
     "output_type": "stream",
     "text": [
      "submit success\n"
     ]
    },
    {
     "name": "stderr",
     "output_type": "stream",
     "text": [
      "127.0.0.1 - - [27/May/2023 20:36:53] \"\u001b[37mPOST /submit HTTP/1.1\u001b[0m\" 200 -\n"
     ]
    },
    {
     "name": "stdout",
     "output_type": "stream",
     "text": [
      "submit success\n"
     ]
    },
    {
     "name": "stderr",
     "output_type": "stream",
     "text": [
      "127.0.0.1 - - [27/May/2023 21:11:39] \"\u001b[37mPOST /submit HTTP/1.1\u001b[0m\" 200 -\n",
      "127.0.0.1 - - [27/May/2023 21:11:39] \"\u001b[37mGET /static/js/form.js HTTP/1.1\u001b[0m\" 200 -\n",
      "127.0.0.1 - - [27/May/2023 21:11:39] \"\u001b[37mGET /static/css/styles.css HTTP/1.1\u001b[0m\" 200 -\n"
     ]
    },
    {
     "name": "stdout",
     "output_type": "stream",
     "text": [
      "submit success\n"
     ]
    },
    {
     "name": "stderr",
     "output_type": "stream",
     "text": [
      "127.0.0.1 - - [27/May/2023 21:11:40] \"\u001b[37mGET /static/js/scripts.js HTTP/1.1\u001b[0m\" 200 -\n",
      "127.0.0.1 - - [27/May/2023 21:11:40] \"\u001b[37mGET /static/assets/img/portfolio/thumbnails/1.jpg HTTP/1.1\u001b[0m\" 200 -\n",
      "127.0.0.1 - - [27/May/2023 21:11:40] \"\u001b[37mGET /static/assets/img/portfolio/thumbnails/3.jpg HTTP/1.1\u001b[0m\" 200 -\n",
      "127.0.0.1 - - [27/May/2023 21:11:40] \"\u001b[37mGET /static/assets/img/portfolio/thumbnails/2.jpg HTTP/1.1\u001b[0m\" 200 -\n",
      "127.0.0.1 - - [27/May/2023 21:11:40] \"\u001b[37mGET /static/assets/img/portfolio/thumbnails/4.jpg. HTTP/1.1\u001b[0m\" 200 -\n",
      "127.0.0.1 - - [27/May/2023 21:11:40] \"\u001b[37mGET /static/assets/img/portfolio/thumbnails/6.jpg HTTP/1.1\u001b[0m\" 200 -\n",
      "127.0.0.1 - - [27/May/2023 21:11:40] \"\u001b[37mGET /static/assets/img/portfolio/thumbnails/5.jpg HTTP/1.1\u001b[0m\" 200 -\n",
      "127.0.0.1 - - [27/May/2023 21:11:40] \"\u001b[37mGET /static/assets/img/bg-masthead.jpg HTTP/1.1\u001b[0m\" 200 -\n",
      "127.0.0.1 - - [27/May/2023 21:11:42] \"\u001b[37mGET /static/assets/favicon.ico HTTP/1.1\u001b[0m\" 200 -\n",
      "127.0.0.1 - - [27/May/2023 21:11:44] \"\u001b[37mPOST /submit HTTP/1.1\u001b[0m\" 200 -\n"
     ]
    },
    {
     "name": "stdout",
     "output_type": "stream",
     "text": [
      "submit success\n"
     ]
    },
    {
     "name": "stderr",
     "output_type": "stream",
     "text": [
      "127.0.0.1 - - [27/May/2023 21:11:53] \"\u001b[37mPOST /submit HTTP/1.1\u001b[0m\" 200 -\n",
      "127.0.0.1 - - [27/May/2023 21:11:53] \"\u001b[37mGET /static/css/styles.css HTTP/1.1\u001b[0m\" 200 -\n",
      "127.0.0.1 - - [27/May/2023 21:11:53] \"\u001b[37mGET /static/js/form.js HTTP/1.1\u001b[0m\" 200 -\n"
     ]
    },
    {
     "name": "stdout",
     "output_type": "stream",
     "text": [
      "submit success\n"
     ]
    },
    {
     "name": "stderr",
     "output_type": "stream",
     "text": [
      "127.0.0.1 - - [27/May/2023 21:11:53] \"\u001b[37mGET /static/js/scripts.js HTTP/1.1\u001b[0m\" 200 -\n",
      "127.0.0.1 - - [27/May/2023 21:11:53] \"\u001b[37mGET /static/assets/img/portfolio/thumbnails/1.jpg HTTP/1.1\u001b[0m\" 200 -\n",
      "127.0.0.1 - - [27/May/2023 21:11:53] \"\u001b[37mGET /static/assets/img/portfolio/thumbnails/2.jpg HTTP/1.1\u001b[0m\" 200 -\n",
      "127.0.0.1 - - [27/May/2023 21:11:53] \"\u001b[37mGET /static/assets/img/portfolio/thumbnails/3.jpg HTTP/1.1\u001b[0m\" 200 -\n",
      "127.0.0.1 - - [27/May/2023 21:11:53] \"\u001b[37mGET /static/assets/img/portfolio/thumbnails/4.jpg. HTTP/1.1\u001b[0m\" 200 -\n",
      "127.0.0.1 - - [27/May/2023 21:11:53] \"\u001b[37mGET /static/assets/img/portfolio/thumbnails/5.jpg HTTP/1.1\u001b[0m\" 200 -\n",
      "127.0.0.1 - - [27/May/2023 21:11:53] \"\u001b[37mGET /static/assets/img/bg-masthead.jpg HTTP/1.1\u001b[0m\" 200 -\n",
      "127.0.0.1 - - [27/May/2023 21:11:53] \"\u001b[37mGET /static/assets/img/portfolio/thumbnails/6.jpg HTTP/1.1\u001b[0m\" 200 -\n",
      "127.0.0.1 - - [27/May/2023 21:11:54] \"\u001b[37mGET /static/assets/favicon.ico HTTP/1.1\u001b[0m\" 200 -\n",
      "127.0.0.1 - - [27/May/2023 21:12:02] \"\u001b[37mPOST /submit HTTP/1.1\u001b[0m\" 200 -\n",
      "127.0.0.1 - - [27/May/2023 21:12:03] \"\u001b[37mGET /static/css/styles.css HTTP/1.1\u001b[0m\" 200 -\n",
      "127.0.0.1 - - [27/May/2023 21:12:03] \"\u001b[37mGET /static/js/form.js HTTP/1.1\u001b[0m\" 200 -\n",
      "127.0.0.1 - - [27/May/2023 21:12:03] \"\u001b[37mGET /static/js/scripts.js HTTP/1.1\u001b[0m\" 200 -\n",
      "127.0.0.1 - - [27/May/2023 21:12:03] \"\u001b[37mGET /static/assets/img/portfolio/thumbnails/2.jpg HTTP/1.1\u001b[0m\" 200 -\n"
     ]
    },
    {
     "name": "stdout",
     "output_type": "stream",
     "text": [
      "submit success\n"
     ]
    },
    {
     "name": "stderr",
     "output_type": "stream",
     "text": [
      "127.0.0.1 - - [27/May/2023 21:12:03] \"\u001b[37mGET /static/assets/img/portfolio/thumbnails/3.jpg HTTP/1.1\u001b[0m\" 200 -\n",
      "127.0.0.1 - - [27/May/2023 21:12:03] \"\u001b[37mGET /static/assets/img/portfolio/thumbnails/1.jpg HTTP/1.1\u001b[0m\" 200 -\n",
      "127.0.0.1 - - [27/May/2023 21:12:03] \"\u001b[37mGET /static/assets/img/portfolio/thumbnails/4.jpg. HTTP/1.1\u001b[0m\" 200 -\n",
      "127.0.0.1 - - [27/May/2023 21:12:03] \"\u001b[37mGET /static/assets/img/portfolio/thumbnails/5.jpg HTTP/1.1\u001b[0m\" 200 -\n",
      "127.0.0.1 - - [27/May/2023 21:12:03] \"\u001b[37mGET /static/assets/img/bg-masthead.jpg HTTP/1.1\u001b[0m\" 200 -\n",
      "127.0.0.1 - - [27/May/2023 21:12:03] \"\u001b[37mGET /static/assets/img/portfolio/thumbnails/6.jpg HTTP/1.1\u001b[0m\" 200 -\n",
      "127.0.0.1 - - [27/May/2023 21:12:03] \"\u001b[37mGET /static/assets/favicon.ico HTTP/1.1\u001b[0m\" 200 -\n",
      "127.0.0.1 - - [27/May/2023 21:12:32] \"\u001b[37mPOST /submit HTTP/1.1\u001b[0m\" 200 -\n",
      "127.0.0.1 - - [27/May/2023 21:12:32] \"\u001b[37mGET /static/css/styles.css HTTP/1.1\u001b[0m\" 200 -\n",
      "127.0.0.1 - - [27/May/2023 21:12:32] \"\u001b[37mGET /static/js/form.js HTTP/1.1\u001b[0m\" 200 -\n"
     ]
    },
    {
     "name": "stdout",
     "output_type": "stream",
     "text": [
      "submit success\n"
     ]
    },
    {
     "name": "stderr",
     "output_type": "stream",
     "text": [
      "127.0.0.1 - - [27/May/2023 21:12:32] \"\u001b[37mGET /static/js/scripts.js HTTP/1.1\u001b[0m\" 200 -\n",
      "127.0.0.1 - - [27/May/2023 21:12:32] \"\u001b[37mGET /static/assets/img/portfolio/thumbnails/1.jpg HTTP/1.1\u001b[0m\" 200 -\n",
      "127.0.0.1 - - [27/May/2023 21:12:32] \"\u001b[37mGET /static/assets/img/portfolio/thumbnails/2.jpg HTTP/1.1\u001b[0m\" 200 -\n",
      "127.0.0.1 - - [27/May/2023 21:12:32] \"\u001b[37mGET /static/assets/img/portfolio/thumbnails/3.jpg HTTP/1.1\u001b[0m\" 200 -\n",
      "127.0.0.1 - - [27/May/2023 21:12:32] \"\u001b[37mGET /static/assets/img/portfolio/thumbnails/4.jpg. HTTP/1.1\u001b[0m\" 200 -\n",
      "127.0.0.1 - - [27/May/2023 21:12:32] \"\u001b[37mGET /static/assets/img/portfolio/thumbnails/5.jpg HTTP/1.1\u001b[0m\" 200 -\n",
      "127.0.0.1 - - [27/May/2023 21:12:32] \"\u001b[37mGET /static/assets/img/bg-masthead.jpg HTTP/1.1\u001b[0m\" 200 -\n",
      "127.0.0.1 - - [27/May/2023 21:12:32] \"\u001b[37mGET /static/assets/img/portfolio/thumbnails/6.jpg HTTP/1.1\u001b[0m\" 200 -\n",
      "127.0.0.1 - - [27/May/2023 21:12:32] \"\u001b[37mGET /static/assets/favicon.ico HTTP/1.1\u001b[0m\" 200 -\n",
      "127.0.0.1 - - [27/May/2023 21:13:06] \"\u001b[37mPOST /submit HTTP/1.1\u001b[0m\" 200 -\n"
     ]
    },
    {
     "name": "stdout",
     "output_type": "stream",
     "text": [
      "submit success\n"
     ]
    },
    {
     "name": "stderr",
     "output_type": "stream",
     "text": [
      "127.0.0.1 - - [27/May/2023 21:13:25] \"\u001b[37mPOST /submit HTTP/1.1\u001b[0m\" 200 -\n"
     ]
    },
    {
     "name": "stdout",
     "output_type": "stream",
     "text": [
      "submit success\n"
     ]
    },
    {
     "name": "stderr",
     "output_type": "stream",
     "text": [
      "127.0.0.1 - - [27/May/2023 21:13:28] \"\u001b[37mPOST /submit HTTP/1.1\u001b[0m\" 200 -\n",
      "127.0.0.1 - - [27/May/2023 21:13:28] \"\u001b[37mGET /static/css/styles.css HTTP/1.1\u001b[0m\" 200 -\n",
      "127.0.0.1 - - [27/May/2023 21:13:28] \"\u001b[37mGET /static/js/form.js HTTP/1.1\u001b[0m\" 200 -\n"
     ]
    },
    {
     "name": "stdout",
     "output_type": "stream",
     "text": [
      "submit success\n"
     ]
    },
    {
     "name": "stderr",
     "output_type": "stream",
     "text": [
      "127.0.0.1 - - [27/May/2023 21:13:28] \"\u001b[37mGET /static/js/scripts.js HTTP/1.1\u001b[0m\" 200 -\n",
      "127.0.0.1 - - [27/May/2023 21:13:28] \"\u001b[37mGET /static/assets/img/portfolio/thumbnails/1.jpg HTTP/1.1\u001b[0m\" 200 -\n",
      "127.0.0.1 - - [27/May/2023 21:13:28] \"\u001b[37mGET /static/assets/img/portfolio/thumbnails/2.jpg HTTP/1.1\u001b[0m\" 200 -\n",
      "127.0.0.1 - - [27/May/2023 21:13:28] \"\u001b[37mGET /static/assets/img/portfolio/thumbnails/3.jpg HTTP/1.1\u001b[0m\" 200 -\n",
      "127.0.0.1 - - [27/May/2023 21:13:28] \"\u001b[37mGET /static/assets/img/portfolio/thumbnails/4.jpg. HTTP/1.1\u001b[0m\" 200 -\n",
      "127.0.0.1 - - [27/May/2023 21:13:28] \"\u001b[37mGET /static/assets/img/bg-masthead.jpg HTTP/1.1\u001b[0m\" 200 -\n",
      "127.0.0.1 - - [27/May/2023 21:13:28] \"\u001b[37mGET /static/assets/img/portfolio/thumbnails/5.jpg HTTP/1.1\u001b[0m\" 200 -\n",
      "127.0.0.1 - - [27/May/2023 21:13:28] \"\u001b[37mGET /static/assets/img/portfolio/thumbnails/6.jpg HTTP/1.1\u001b[0m\" 200 -\n",
      "127.0.0.1 - - [27/May/2023 21:13:29] \"\u001b[37mGET /static/assets/favicon.ico HTTP/1.1\u001b[0m\" 200 -\n",
      "127.0.0.1 - - [27/May/2023 21:19:07] \"\u001b[37mPOST /submit HTTP/1.1\u001b[0m\" 200 -\n"
     ]
    },
    {
     "name": "stdout",
     "output_type": "stream",
     "text": [
      "submit success\n"
     ]
    }
   ],
   "source": [
    "import joblib\n",
    "#model_pretrained = joblib.load('LoanOrNot-LR-20230508.pkl')\n",
    "import numpy as np\n",
    " \n",
    "from flask import Flask, request, render_template\n",
    "app = Flask(__name__)\n",
    "app.static_folder = 'static'\n",
    "\n",
    "@app.route(\"/\")\n",
    "def formPage():\n",
    "    return render_template('index.html')\n",
    "\n",
    "@app.route(\"/submit\", methods=['POST'])\n",
    "def submit():\n",
    "    if request.method == 'POST':\n",
    "        print('submit success')\n",
    "    return render_template('index.html')\n",
    " \n",
    "if __name__ == \"__main__\":\n",
    "    app.run()"
   ]
  }
 ],
 "metadata": {
  "kernelspec": {
   "display_name": "Python 3.9.12 64-bit",
   "language": "python",
   "name": "python3"
  },
  "language_info": {
   "codemirror_mode": {
    "name": "ipython",
    "version": 3
   },
   "file_extension": ".py",
   "mimetype": "text/x-python",
   "name": "python",
   "nbconvert_exporter": "python",
   "pygments_lexer": "ipython3",
   "version": "3.9.12"
  },
  "vscode": {
   "interpreter": {
    "hash": "82ed002fa2d4956f5c6aec99bcefe0f73a9f79882f3c9e2319b14958a5896ac5"
   }
  }
 },
 "nbformat": 4,
 "nbformat_minor": 4
}
